{
 "cells": [
  {
   "cell_type": "code",
   "execution_count": null,
   "id": "735d0e91",
   "metadata": {},
   "outputs": [],
   "source": [
    "# Importation des librairies\n",
    "from fastapi import FastAPI,HTTPException, Request, Depends\n",
    "from pydantic import BaseModel, Field\n",
    "from pydantic_settings import BaseSettings\n",
    "import mlflow.sklearn\n",
    "import pandas as pd\n",
    "from typing import Dict\n",
    "from database import insert_data\n",
    "from concurrent.futures import ThreadPoolExecutor\n",
    "import mlflow.pyfunc\n",
    "import logging"
   ]
  },
  {
   "cell_type": "code",
   "execution_count": null,
   "id": "0202d83e",
   "metadata": {},
   "outputs": [],
   "source": [
    "# ====== CONFIGURATION ======\n",
    "class Setting(BaseSettings) : \n",
    "    mlflow_model_name : str = \"logistic\"\n",
    "    mlflow_model_version : str = \"2\"\n",
    "    max_workers : int = 5\n",
    "    \n",
    "    class Config: \n",
    "        env_file = \".env\"\n",
    "settings = Settings()"
   ]
  },
  {
   "cell_type": "code",
   "execution_count": null,
   "id": "26034586",
   "metadata": {},
   "outputs": [],
   "source": [
    "# ====== CREATION DE L'API =====\n",
    "app = FastAPI(\n",
    "    title= \"API de Logistique\",\n",
    "    description=\"API pour prédire le statut de livraison\",\n",
    "    version=\"1.0.0\",\n",
    "    contact={\n",
    "        \"name\": \"Support Technique\",\n",
    "        \"email\": \"support@logistick.com\"\n",
    "    },\n",
    ")"
   ]
  },
  {
   "cell_type": "code",
   "execution_count": null,
   "id": "ea0682a3",
   "metadata": {},
   "outputs": [],
   "source": [
    "# ====== EXECUTOR ======\n",
    "executor = ThreadPoolExecutor(max_workers=settings.max_workers)"
   ]
  },
  {
   "cell_type": "code",
   "execution_count": null,
   "id": "618fa306",
   "metadata": {},
   "outputs": [],
   "source": [
    "# ====== HOME ======\n",
    "@app.get(\"/home\")\n",
    "async def homepage(): \n",
    "    return{\"Status\": \"OK\"}"
   ]
  },
  {
   "cell_type": "code",
   "execution_count": null,
   "id": "0d76372b",
   "metadata": {},
   "outputs": [],
   "source": [
    "# ====== SCHEME D'ENTREE ======\n",
    "class LogistikData(BaseModel):\n",
    "    Stock_Level : int = Field (..., lt=1000)\n",
    "    Sales : int = Field(..., lt=1000)\n",
    "    Transportation_Cost : float = Field(..., lt=1000)\n",
    "    Region : str = Field(..., min_length=2, max_length=50)\n",
    "    Delivery_Urgency : str = Field(..., min_length=2, max_length=(50))\n",
    "    Estimated_Day : int = Field(..., ge=1, le=17)"
   ]
  },
  {
   "cell_type": "code",
   "execution_count": null,
   "id": "d49a2838",
   "metadata": {},
   "outputs": [],
   "source": [
    "# ====== CHARGEMENT DU MODELE PREDICTIF ======\n",
    "async def get_model():\n",
    "    try : \n",
    "        model = mlflow.pyfunc.load_model(f\"models:/{settings.mlflow_model_name}/{settings.mlflow_model_version}\")\n",
    "        logger.info(\"Modèle Chargé ✅✅\")\n",
    "        return model\n",
    "    except Exception as e : \n",
    "        logger.error(f\"Erreur de chargement du modèle : {str(e)}\")\n",
    "        raise HTTPException(status_code=500, detail=\"Erreur de chargement du modèle\")"
   ]
  },
  {
   "cell_type": "code",
   "execution_count": null,
   "id": "b83fff28",
   "metadata": {},
   "outputs": [],
   "source": [
    "# ====== ENDPOINTS ======\n",
    "@app.post(\"/v1/predict\")\n",
    "async def predict_logistic(\n",
    "    request : Request,\n",
    "    data : LogistikData,\n",
    "    model : mlflow.pyfunc.PythonModel = Depends(get_model)\n",
    "):\n",
    "    try : \n",
    "        input_data = pd.DataFrame([data.dict()])\n",
    "        prediction = model.predict(input_data)\n",
    "        predicted_class = int(prediction[0])\n",
    "        \n",
    "        logistik_mapping ={\n",
    "            0 : \"On Time\",\n",
    "            1 : \"Late\"\n",
    "        }\n",
    "        \n",
    "        message = f\"Delivery Status : {logistik_mapping.get(predicted_class, 'Unknown')}\"\n",
    "        \n",
    "        # Insertion asynchrone\n",
    "        executor.submit(insert_data, data, message)\n",
    "        logger.info(\"Prédiction et insertion réussies\")\n",
    "        \n",
    "        return {\"Deliver Status\": message}\n",
    "    \n",
    "    except Exception as e: \n",
    "        logger.error(f\"Erreur de prédiction: {str(e)}\")\n",
    "        raise HTTPException(status_code=500, detail=f\"Erreur de prédiction : {str(e)}\")"
   ]
  }
 ],
 "metadata": {
  "kernelspec": {
   "display_name": "Python 3",
   "language": "python",
   "name": "python3"
  },
  "language_info": {
   "codemirror_mode": {
    "name": "ipython",
    "version": 3
   },
   "file_extension": ".py",
   "mimetype": "text/x-python",
   "name": "python",
   "nbconvert_exporter": "python",
   "pygments_lexer": "ipython3",
   "version": "3.12.5"
  }
 },
 "nbformat": 4,
 "nbformat_minor": 5
}
